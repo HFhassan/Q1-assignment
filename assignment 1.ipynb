{
 "cells": [
  {
   "cell_type": "markdown",
   "metadata": {},
   "source": [
    "# HASSAN FAROOQUI\n",
    "ID: AIC026331\n",
    "\n",
    "Center: Saylani Welfare\n",
    "Campus: Head Office Campus\n",
    "Quarter: Q1\n",
    "\n",
    "Days / Time: Saturday - 3:30 PM to 6:30 PM\n",
    "\n",
    "\n",
    "\n",
    "ASSIGNMENT: 01\n"
   ]
  },
  {
   "cell_type": "code",
   "execution_count": 1,
   "metadata": {},
   "outputs": [
    {
     "name": "stdout",
     "output_type": "stream",
     "text": [
      "enter radius \t3\n",
      "Area of circle is:\t 28.278\n",
      "***************************\n"
     ]
    }
   ],
   "source": [
    "val= input (\"enter radius \\t\")\n",
    "r=int(val)\n",
    "radius= r*r\n",
    "print (\"Area of circle is:\\t\",3.142*radius)\n",
    "print (\"***************************\")"
   ]
  },
  {
   "cell_type": "code",
   "execution_count": 3,
   "metadata": {},
   "outputs": [
    {
     "name": "stdout",
     "output_type": "stream",
     "text": [
      "enter a number to check: \t3\n",
      "Positive number\n"
     ]
    }
   ],
   "source": [
    "num = input (\"enter a number to check: \\t\")\n",
    "val = int (num)\n",
    "if val>0:\n",
    "    print (\"Positive number\")\n",
    "elif val<0:\n",
    "    print (\"negative number\")\n",
    "else:\n",
    "    print (\"number is zero\")"
   ]
  },
  {
   "cell_type": "code",
   "execution_count": 4,
   "metadata": {},
   "outputs": [
    {
     "name": "stdout",
     "output_type": "stream",
     "text": [
      "enter a number to check: \t-8\n",
      "negative number\n"
     ]
    }
   ],
   "source": [
    "num = input (\"enter a number to check: \\t\")\n",
    "val = int (num)\n",
    "if val>0:\n",
    "    print (\"Positive number\")\n",
    "elif val<0:\n",
    "    print (\"negative number\")\n",
    "else:\n",
    "    print (\"number is zero\")"
   ]
  },
  {
   "cell_type": "code",
   "execution_count": 5,
   "metadata": {},
   "outputs": [
    {
     "name": "stdout",
     "output_type": "stream",
     "text": [
      "enter a number to check: \t0\n",
      "number is zero\n"
     ]
    }
   ],
   "source": [
    "num = input (\"enter a number to check: \\t\")\n",
    "val = int (num)\n",
    "if val>0:\n",
    "    print (\"Positive number\")\n",
    "elif val<0:\n",
    "    print (\"negative number\")\n",
    "else:\n",
    "    print (\"number is zero\")"
   ]
  },
  {
   "cell_type": "code",
   "execution_count": 6,
   "metadata": {},
   "outputs": [
    {
     "name": "stdout",
     "output_type": "stream",
     "text": [
      "enter nomemnator: \t4\n",
      "enter denomenator: \t2\n",
      "number 4 is completely divisible by 2\n"
     ]
    }
   ],
   "source": [
    "num1 = input (\"enter nomemnator: \\t\")\n",
    "num2 = input (\"enter denomenator: \\t\")\n",
    "\n",
    "nom=int(num1)\n",
    "denom =int(num2)\n",
    "if nom%denom==0:\n",
    "    print (\"number\",nom,\"is completely divisible by\",denom)\n",
    "else:\n",
    "    print (\"number\",nom,\"is not completely divisible by\",denom)"
   ]
  },
  {
   "cell_type": "code",
   "execution_count": 7,
   "metadata": {},
   "outputs": [
    {
     "name": "stdout",
     "output_type": "stream",
     "text": [
      "enter nomemnator: \t7\n",
      "enter denomenator: \t3\n",
      "number 7 is not completely divisible by 3\n"
     ]
    }
   ],
   "source": [
    "num1 = input (\"enter nomemnator: \\t\")\n",
    "num2 = input (\"enter denomenator: \\t\")\n",
    "\n",
    "nom=int(num1)\n",
    "denom =int(num2)\n",
    "if nom%denom==0:\n",
    "    print (\"number\",nom,\"is completely divisible by\",denom)\n",
    "else:\n",
    "    print (\"number\",nom,\"is not completely divisible by\",denom)"
   ]
  },
  {
   "cell_type": "code",
   "execution_count": 11,
   "metadata": {},
   "outputs": [
    {
     "name": "stdout",
     "output_type": "stream",
     "text": [
      "Enter start date in that format dd/mmm/yyyy:4/6/2019\n",
      "Enter end date in that format dd/mmm/yyyy:8/6/2019\n",
      "4 days\n"
     ]
    }
   ],
   "source": [
    "from datetime import datetime\n",
    "first = input('Enter start date in that format dd/mmm/yyyy:')\n",
    "second = input('Enter end date in that format dd/mmm/yyyy:')\n",
    "d_format = \"%d/%m/%Y\"\n",
    "a = datetime.strptime(first, d_format)\n",
    "b = datetime.strptime(second, d_format)\n",
    "print((b-a).days, \"days\")"
   ]
  },
  {
   "cell_type": "code",
   "execution_count": 12,
   "metadata": {},
   "outputs": [
    {
     "name": "stdout",
     "output_type": "stream",
     "text": [
      "Enter the radius of the sphere:2.5\n",
      "The volume of the sphere with radius 2.5 is : 65.46\n"
     ]
    }
   ],
   "source": [
    "\n",
    "pi = 3.142\n",
    "r = float(input(\"Enter the radius of the sphere:\"))\n",
    "V= 4.0/3.0*pi* r**3\n",
    "print(f\"The volume of the sphere with radius {r} is : %.2f\" %V)"
   ]
  },
  {
   "cell_type": "code",
   "execution_count": 13,
   "metadata": {},
   "outputs": [
    {
     "name": "stdout",
     "output_type": "stream",
     "text": [
      "Enter String: hassan\n",
      "How many copies do you need: 5\n",
      "hassan\n",
      "hassan\n",
      "hassan\n",
      "hassan\n",
      "hassan\n"
     ]
    }
   ],
   "source": [
    "val = input('Enter String: ')\n",
    "val2 = int(input('How many copies do you need: '))\n",
    "for i in range(val2):\n",
    "    print(val)"
   ]
  },
  {
   "cell_type": "code",
   "execution_count": 14,
   "metadata": {},
   "outputs": [
    {
     "name": "stdout",
     "output_type": "stream",
     "text": [
      "Enter Number:5\n",
      "5 is Odd Number\n"
     ]
    }
   ],
   "source": [
    "num = int(input(\"Enter Number:\"))\n",
    "if num % 2==0:\n",
    "    print(f\"{num} is Even Number\")\n",
    "else:\n",
    "    print(f\"{num} is Odd Number\")"
   ]
  },
  {
   "cell_type": "code",
   "execution_count": 15,
   "metadata": {},
   "outputs": [
    {
     "name": "stdout",
     "output_type": "stream",
     "text": [
      "Enter Number:4\n",
      "4 is Even Number\n"
     ]
    }
   ],
   "source": [
    "num = int(input(\"Enter Number:\"))\n",
    "if num % 2==0:\n",
    "    print(f\"{num} is Even Number\")\n",
    "else:\n",
    "    print(f\"{num} is Odd Number\")"
   ]
  },
  {
   "cell_type": "code",
   "execution_count": 23,
   "metadata": {},
   "outputs": [
    {
     "name": "stdout",
     "output_type": "stream",
     "text": [
      "Enter a letter of the alphabet: b\n",
      "Letter b is a consonant.\n"
     ]
    }
   ],
   "source": [
    "\n",
    "a = input(\"Enter a letter of the alphabet: \")\n",
    "\n",
    "if letter in ('a', 'e', 'i', 'o', 'u'):\n",
    "    print(f\"Letter {a} is a vowel.\")\n",
    "\n",
    "else:\n",
    "    print(f\"Letter {a} is a consonant.\")"
   ]
  },
  {
   "cell_type": "code",
   "execution_count": 24,
   "metadata": {},
   "outputs": [
    {
     "name": "stdout",
     "output_type": "stream",
     "text": [
      "Enter a letter of the alphabet: a\n",
      "letter a is a vowel\n"
     ]
    }
   ],
   "source": [
    "\n",
    "a = input(\"Enter a letter of the alphabet: \")\n",
    "\n",
    "if letter in ('a', 'e', 'i', 'o', 'u'):\n",
    "    print(f\"Letter {a} is a vowel.\")\n",
    "\n",
    "else:\n",
    "    print(f\"Letter {a} is a consonant.\")"
   ]
  },
  {
   "cell_type": "code",
   "execution_count": 25,
   "metadata": {},
   "outputs": [
    {
     "name": "stdout",
     "output_type": "stream",
     "text": [
      "Enter the base of a triangle: 12\n",
      "Enter the height of a triangle: 10\n",
      "The Area of Triangle with base 12.0 and height 10.0 is 60.0\n"
     ]
    }
   ],
   "source": [
    "base = float(input('Enter the base of a triangle: '))\n",
    "height = float(input('Enter the height of a triangle: '))\n",
    "area = (1/2) * base * height\n",
    "print('The Area of Triangle with base {} and height {} is {}'.format(base, height, area))"
   ]
  },
  {
   "cell_type": "code",
   "execution_count": 26,
   "metadata": {},
   "outputs": [
    {
     "name": "stdout",
     "output_type": "stream",
     "text": [
      "Input Prinicipal: 40\n",
      "Enter rate of interest in %: 2\n",
      "Enter time ion years: 4\n",
      "Interest is 3.2\n"
     ]
    }
   ],
   "source": [
    "principal = float(input(\"Input Prinicipal: \"))\n",
    "rate = float(input('Enter rate of interest in %: '))\n",
    "time = float(input('Enter time ion years: '))\n",
    "interest = principal * (rate/100) * time\n",
    "print('Interest is {}'.format(interest))"
   ]
  },
  {
   "cell_type": "code",
   "execution_count": 27,
   "metadata": {},
   "outputs": [
    {
     "name": "stdout",
     "output_type": "stream",
     "text": [
      "Enter Co-ordinate for x1: 4\n",
      "Enter Co-ordinate for x2: 5\n",
      "Enter Co-ordinate for y1: 8\n",
      "Enter Co-ordinate for y2: 9\n",
      "Distance between points(4,8) and (5,9) is  1.4142135623730951\n"
     ]
    }
   ],
   "source": [
    "import math\n",
    "\n",
    "x1 = int(input(\"Enter Co-ordinate for x1: \"))\n",
    "x2 = int(input(\"Enter Co-ordinate for x2: \"))\n",
    "y1 = int(input(\"Enter Co-ordinate for y1: \"))\n",
    "y2 = int(input(\"Enter Co-ordinate for y2: \"))\n",
    "\n",
    "D = math.sqrt(((x1 - x2)**2)+((y1 - y2)**2))\n",
    "print(f\"Distance between points({x1},{y1}) and ({x2},{y2}) is \", D)"
   ]
  },
  {
   "cell_type": "code",
   "execution_count": 28,
   "metadata": {},
   "outputs": [
    {
     "name": "stdout",
     "output_type": "stream",
     "text": [
      "Enter Length in Feet here: 5\n",
      "There are 152.4 Cm in 5 ft\n"
     ]
    }
   ],
   "source": [
    "\n",
    "feet = input(\"Enter Length in Feet here: \")\n",
    "cm = float(feet) * 30.48\n",
    "print(\"There are \" + str(cm) + \" Cm in \" + str(feet) +\" ft\")\n",
    " "
   ]
  },
  {
   "cell_type": "code",
   "execution_count": 32,
   "metadata": {},
   "outputs": [
    {
     "name": "stdout",
     "output_type": "stream",
     "text": [
      "Enter Height in Cm: 175\n",
      "Enter Weight in Kg: 65\n",
      "Your BMI is:  21.224489795918366\n"
     ]
    }
   ],
   "source": [
    "h = float(input(\"Enter Height in Cm: \"))\n",
    "w = float(input(\"Enter Weight in Kg: \"))\n",
    "BMI=w/((h/100)**2)\n",
    "print(\"Your BMI is: \", BMI)"
   ]
  },
  {
   "cell_type": "code",
   "execution_count": 33,
   "metadata": {},
   "outputs": [
    {
     "name": "stdout",
     "output_type": "stream",
     "text": [
      "Enter value of n: 6\n",
      "Sum of n Positive integers till 6 is  21.0\n"
     ]
    }
   ],
   "source": [
    "\n",
    "n = int(input(\"Enter value of n: \"))\n",
    "sumn = (n * (n + 1)) / 2\n",
    "print(f\"Sum of n Positive integers till {n} is \",sumn)"
   ]
  },
  {
   "cell_type": "code",
   "execution_count": 35,
   "metadata": {},
   "outputs": [
    {
     "name": "stdout",
     "output_type": "stream",
     "text": [
      "Enter decimal number: 04\n",
      "In binary Representation of 4 is  0b100\n"
     ]
    }
   ],
   "source": [
    "n=int(input('Enter decimal number: '))\n",
    "print(f\"In binary Representation of {n} is \",bin(n))"
   ]
  },
  {
   "cell_type": "code",
   "execution_count": 1,
   "metadata": {},
   "outputs": [
    {
     "name": "stdout",
     "output_type": "stream",
     "text": [
      " For Decimal to Binary...Press 1.\n",
      " For Binary to Decimal... Press 2\n",
      "*****************************************************\n",
      "Enter your choice: 2\n",
      "Enter binary to be converted: 1001\n",
      "The decimal of the given binary is  9 .\n"
     ]
    }
   ],
   "source": [
    "print(\" For Decimal to Binary...Press 1.\")\n",
    "print(\" For Binary to Decimal... Press 2\")\n",
    "print(\"*****************************************************\")\n",
    "my_choice=int(input(\"Enter your choice: \"))\n",
    "if my_choice==1:\n",
    "   i=1\n",
    "   s=0\n",
    "   my_dec=int(input(\"Enter decimal to be converted: \"))\n",
    "   while my_dec>0:\n",
    "      rem=int(my_dec%2)\n",
    "      s=s+(i*rem)\n",
    "      my_dec=int(my_dec/2)\n",
    "      i=i*10\n",
    "   print (\"The binary of the given number is \",s,'.')\n",
    "else:\n",
    "   my_bin=input ('Enter binary to be converted: ')\n",
    "   n=len(my_bin)\n",
    "   res=0\n",
    "   for i in range(1,n+1):\n",
    "      res=res+ int(my_bin[i-1])*2**(n-i)\n",
    "   print (\"The decimal of the given binary is \",res,'.')"
   ]
  },
  {
   "cell_type": "code",
   "execution_count": 7,
   "metadata": {},
   "outputs": [
    {
     "name": "stdout",
     "output_type": "stream",
     "text": [
      "Please Enter Your Own String : hassan\n",
      "Total Number of Vowels in this String =  2\n",
      "Total Number of Consonants in this String =  4\n"
     ]
    }
   ],
   "source": [
    "\n",
    "str1 = input(\"Please Enter Your Own String : \")\n",
    "vowels = 0\n",
    "consonants = 0\n",
    "\n",
    "for i in str1:\n",
    "    if(i == 'a' or i == 'e' or i == 'i' or i == 'o' or i == 'u'\n",
    "       or i == 'A' or i == 'E' or i == 'I' or i == 'O' or i == 'U'):\n",
    "        vowels = vowels + 1\n",
    "    else:\n",
    "        consonants = consonants + 1\n",
    " \n",
    "print(\"Total Number of Vowels in this String = \", vowels)\n",
    "print(\"Total Number of Consonants in this String = \", consonants)"
   ]
  },
  {
   "cell_type": "code",
   "execution_count": 9,
   "metadata": {},
   "outputs": [
    {
     "name": "stdout",
     "output_type": "stream",
     "text": [
      "Enter a word to check its palindrome or not: hello\n",
      "text hello  is not palindrome\n"
     ]
    }
   ],
   "source": [
    "word = input('Enter a word to check its palindrome or not: ')\n",
    "a = []\n",
    "for e in word:\n",
    "    a.append(e)\n",
    "if a[::-1] == list(word):\n",
    "    print(\"text\",word,\" is palindrome\")\n",
    "else:\n",
    "    print(\"text\",word,\" is not palindrome\")"
   ]
  },
  {
   "cell_type": "code",
   "execution_count": 10,
   "metadata": {},
   "outputs": [
    {
     "name": "stdout",
     "output_type": "stream",
     "text": [
      "Please Enter your Own String : hassan@817\n",
      "\n",
      "Total Number of Alphabets in this String :   6\n",
      "Total Number of Digits in this String :   3\n",
      "Total Number of Special Characters in this String :   1\n"
     ]
    }
   ],
   "source": [
    "string = input(\"Please Enter your Own String : \")\n",
    "alphabets = digits = special = 0\n",
    "\n",
    "for i in range(len(string)):\n",
    "    if(string[i].isalpha()):\n",
    "        alphabets = alphabets + 1\n",
    "    elif(string[i].isdigit()):\n",
    "        digits = digits + 1\n",
    "    else:\n",
    "        special = special + 1\n",
    "        \n",
    "print(\"\\nTotal Number of Alphabets in this String :  \", alphabets)\n",
    "print(\"Total Number of Digits in this String :  \", digits)\n",
    "print(\"Total Number of Special Characters in this String :  \", special)"
   ]
  },
  {
   "cell_type": "code",
   "execution_count": 16,
   "metadata": {},
   "outputs": [
    {
     "name": "stdout",
     "output_type": "stream",
     "text": [
      "* \r\n",
      "* * \r\n",
      "* * * \r\n",
      "* * * * \r\n",
      "* * * * * \r\n",
      "* * * *\n",
      "* * *\n",
      "* *\n",
      "*\n"
     ]
    }
   ],
   "source": [
    "def pypart(n): \n",
    "      \n",
    "   \n",
    "    for i in range(0, n): \n",
    "      \n",
    "        for j in range(0, i+1): \n",
    "          \n",
    "            print(\"* \",end=\"\") \n",
    "       \n",
    "        print(\"\\r\") \n",
    "  \n",
    "n = 5\n",
    "pypart(n) \n",
    "print (\"* * * *\\n* * *\\n* *\\n*\")\n",
    "  "
   ]
  },
  {
   "cell_type": "code",
   "execution_count": 19,
   "metadata": {},
   "outputs": [
    {
     "name": "stdout",
     "output_type": "stream",
     "text": [
      "1 \r\n",
      "1 2 \r\n",
      "1 2 3 \r\n",
      "1 2 3 4 \r\n",
      "1 2 3 4 5 \r\n",
      "1 2 3 4\n",
      "1 2 3\n",
      "1 2\n",
      "1\n"
     ]
    }
   ],
   "source": [
    "def numpat(n): \n",
    "      \n",
    "    num = 1\n",
    "  \n",
    "    for i in range(0, n): \n",
    "      \n",
    "        num = 1\n",
    "      \n",
    "        for j in range(0, i+1): \n",
    "          \n",
    "            print(num, end=\" \") \n",
    "          \n",
    "            num = num + 1\n",
    "      \n",
    "        print(\"\\r\") \n",
    "  \n",
    "n = 5\n",
    "numpat(n) \n",
    "print (\"1 2 3 4\\n1 2 3\\n1 2\\n1\")"
   ]
  },
  {
   "cell_type": "code",
   "execution_count": 25,
   "metadata": {},
   "outputs": [
    {
     "name": "stdout",
     "output_type": "stream",
     "text": [
      "0\r\n",
      "11\r\n",
      "222\r\n",
      "3333\r\n",
      "44444\r\n",
      "555555\r\n",
      "6666666\r\n",
      "77777777\r\n",
      "888888888\r\n",
      "9999999999\r\n"
     ]
    }
   ],
   "source": [
    "\n",
    "for i in range(10):\n",
    "    for j in range(i+1):\n",
    "        print(i, end = '')\n",
    "    print('\\r')"
   ]
  },
  {
   "cell_type": "code",
   "execution_count": null,
   "metadata": {},
   "outputs": [],
   "source": []
  }
 ],
 "metadata": {
  "kernelspec": {
   "display_name": "Python 3",
   "language": "python",
   "name": "python3"
  },
  "language_info": {
   "codemirror_mode": {
    "name": "ipython",
    "version": 3
   },
   "file_extension": ".py",
   "mimetype": "text/x-python",
   "name": "python",
   "nbconvert_exporter": "python",
   "pygments_lexer": "ipython3",
   "version": "3.7.3"
  }
 },
 "nbformat": 4,
 "nbformat_minor": 2
}
